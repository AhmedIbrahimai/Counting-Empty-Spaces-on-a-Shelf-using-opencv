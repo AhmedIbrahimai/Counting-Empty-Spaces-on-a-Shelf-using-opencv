{
 "cells": [
  {
   "cell_type": "code",
   "execution_count": null,
   "id": "caae496b",
   "metadata": {},
   "outputs": [],
   "source": []
  },
  {
   "cell_type": "code",
   "execution_count": 11,
   "id": "d64e42e0",
   "metadata": {},
   "outputs": [],
   "source": [
    "import cv2\n",
    "import pickle\n",
    "\n",
    "cap = cv2.VideoCapture('sf3.mp4')\n",
    "\n",
    "\n",
    "try:\n",
    "    with open('shelf','rb') as f:\n",
    "        points = pickle.load(f)\n",
    "except:        \n",
    "    points = []\n",
    "    \n",
    "    \n",
    "def drawrect(event, x, y, flags, param):\n",
    "    if event == cv2.EVENT_LBUTTONDOWN:\n",
    "        points.append([x,y])\n",
    "        \n",
    "    with open('shelf','wb') as f:\n",
    "        pickle.dump(points,f)\n",
    "        \n",
    "    if event == cv2.EVENT_RBUTTONDOWN:\n",
    "        for i , pts in enumerate(points):\n",
    "            x1,y1 = pts\n",
    "            points.pop(i)\n",
    "            \n",
    "\n",
    "cv2.namedWindow('FRAME')\n",
    "cv2.setMouseCallback('FRAME', drawrect)\n",
    "\n",
    "w,h = 66,189\n",
    "\n",
    "while True:\n",
    "    ret, frame = cap.read()\n",
    "    if not ret:\n",
    "        cap.set(cv2.CAP_PROP_POS_FRAMES, 0)\n",
    "        continue\n",
    "    frame = cv2.resize(frame, (1020, 800))\n",
    "    for pts in points:\n",
    "        cv2.rectangle(frame,pts,(pts[0]+w,pts[1]+h), (0, 0, 255), 2)\n",
    "\n",
    "    cv2.imshow(\"FRAME\", frame)\n",
    "    \n",
    "    if cv2.waitKey(100) & 0xFF == 27:\n",
    "        break\n",
    "\n",
    "cap.release()\n",
    "cv2.destroyAllWindows()\n"
   ]
  },
  {
   "cell_type": "code",
   "execution_count": 21,
   "id": "f60d0b7b",
   "metadata": {},
   "outputs": [],
   "source": []
  },
  {
   "cell_type": "code",
   "execution_count": null,
   "id": "499385b0",
   "metadata": {},
   "outputs": [],
   "source": []
  }
 ],
 "metadata": {
  "kernelspec": {
   "display_name": "Python 3 (ipykernel)",
   "language": "python",
   "name": "python3"
  },
  "language_info": {
   "codemirror_mode": {
    "name": "ipython",
    "version": 3
   },
   "file_extension": ".py",
   "mimetype": "text/x-python",
   "name": "python",
   "nbconvert_exporter": "python",
   "pygments_lexer": "ipython3",
   "version": "3.11.3"
  }
 },
 "nbformat": 4,
 "nbformat_minor": 5
}
